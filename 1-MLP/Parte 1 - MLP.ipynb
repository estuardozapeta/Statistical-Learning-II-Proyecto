{
 "cells": [
  {
   "cell_type": "markdown",
   "metadata": {},
   "source": [
    "### **Parte 1 - Red Neuronal Feed Forward**\n",
    "\n",
    "**Base de datos bancarios**: El objetivo será predecir el record crediticio de un cliente"
   ]
  },
  {
   "cell_type": "code",
   "execution_count": 325,
   "metadata": {},
   "outputs": [],
   "source": [
    "import sklearn.model_selection\n",
    "import numpy as np\n",
    "import pandas as pd\n",
    "from sklearn.preprocessing import LabelEncoder\n",
    "from sklearn.metrics import mean_squared_error"
   ]
  },
  {
   "cell_type": "markdown",
   "metadata": {},
   "source": [
    "**Carga de dataset**"
   ]
  },
  {
   "cell_type": "code",
   "execution_count": 373,
   "metadata": {},
   "outputs": [],
   "source": [
    "data  = pd.read_csv('data.csv')"
   ]
  },
  {
   "cell_type": "markdown",
   "metadata": {},
   "source": [
    "**Objetivo**\n",
    "\n",
    "Predecir el record crediticio de un cliente."
   ]
  },
  {
   "cell_type": "markdown",
   "metadata": {},
   "source": [
    "**Visualización de datos**"
   ]
  },
  {
   "cell_type": "code",
   "execution_count": 374,
   "metadata": {},
   "outputs": [
    {
     "data": {
      "text/html": [
       "<div>\n",
       "<style scoped>\n",
       "    .dataframe tbody tr th:only-of-type {\n",
       "        vertical-align: middle;\n",
       "    }\n",
       "\n",
       "    .dataframe tbody tr th {\n",
       "        vertical-align: top;\n",
       "    }\n",
       "\n",
       "    .dataframe thead th {\n",
       "        text-align: right;\n",
       "    }\n",
       "</style>\n",
       "<table border=\"1\" class=\"dataframe\">\n",
       "  <thead>\n",
       "    <tr style=\"text-align: right;\">\n",
       "      <th></th>\n",
       "      <th>RowNumber</th>\n",
       "      <th>CustomerId</th>\n",
       "      <th>Surname</th>\n",
       "      <th>CreditScore</th>\n",
       "      <th>Geography</th>\n",
       "      <th>Gender</th>\n",
       "      <th>Age</th>\n",
       "      <th>Tenure</th>\n",
       "      <th>Balance</th>\n",
       "      <th>NumOfProducts</th>\n",
       "      <th>HasCrCard</th>\n",
       "      <th>IsActiveMember</th>\n",
       "      <th>EstimatedSalary</th>\n",
       "      <th>Exited</th>\n",
       "    </tr>\n",
       "  </thead>\n",
       "  <tbody>\n",
       "    <tr>\n",
       "      <td>0</td>\n",
       "      <td>1</td>\n",
       "      <td>15634602</td>\n",
       "      <td>Hargrave</td>\n",
       "      <td>619</td>\n",
       "      <td>France</td>\n",
       "      <td>Female</td>\n",
       "      <td>42</td>\n",
       "      <td>2</td>\n",
       "      <td>0.00</td>\n",
       "      <td>1</td>\n",
       "      <td>1</td>\n",
       "      <td>1</td>\n",
       "      <td>101348.88</td>\n",
       "      <td>1</td>\n",
       "    </tr>\n",
       "    <tr>\n",
       "      <td>1</td>\n",
       "      <td>2</td>\n",
       "      <td>15647311</td>\n",
       "      <td>Hill</td>\n",
       "      <td>608</td>\n",
       "      <td>Spain</td>\n",
       "      <td>Female</td>\n",
       "      <td>41</td>\n",
       "      <td>1</td>\n",
       "      <td>83807.86</td>\n",
       "      <td>1</td>\n",
       "      <td>0</td>\n",
       "      <td>1</td>\n",
       "      <td>112542.58</td>\n",
       "      <td>0</td>\n",
       "    </tr>\n",
       "    <tr>\n",
       "      <td>2</td>\n",
       "      <td>3</td>\n",
       "      <td>15619304</td>\n",
       "      <td>Onio</td>\n",
       "      <td>502</td>\n",
       "      <td>France</td>\n",
       "      <td>Female</td>\n",
       "      <td>42</td>\n",
       "      <td>8</td>\n",
       "      <td>159660.80</td>\n",
       "      <td>3</td>\n",
       "      <td>1</td>\n",
       "      <td>0</td>\n",
       "      <td>113931.57</td>\n",
       "      <td>1</td>\n",
       "    </tr>\n",
       "    <tr>\n",
       "      <td>3</td>\n",
       "      <td>4</td>\n",
       "      <td>15701354</td>\n",
       "      <td>Boni</td>\n",
       "      <td>699</td>\n",
       "      <td>France</td>\n",
       "      <td>Female</td>\n",
       "      <td>39</td>\n",
       "      <td>1</td>\n",
       "      <td>0.00</td>\n",
       "      <td>2</td>\n",
       "      <td>0</td>\n",
       "      <td>0</td>\n",
       "      <td>93826.63</td>\n",
       "      <td>0</td>\n",
       "    </tr>\n",
       "    <tr>\n",
       "      <td>4</td>\n",
       "      <td>5</td>\n",
       "      <td>15737888</td>\n",
       "      <td>Mitchell</td>\n",
       "      <td>850</td>\n",
       "      <td>Spain</td>\n",
       "      <td>Female</td>\n",
       "      <td>43</td>\n",
       "      <td>2</td>\n",
       "      <td>125510.82</td>\n",
       "      <td>1</td>\n",
       "      <td>1</td>\n",
       "      <td>1</td>\n",
       "      <td>79084.10</td>\n",
       "      <td>0</td>\n",
       "    </tr>\n",
       "  </tbody>\n",
       "</table>\n",
       "</div>"
      ],
      "text/plain": [
       "   RowNumber  CustomerId   Surname  CreditScore Geography  Gender  Age  \\\n",
       "0          1    15634602  Hargrave          619    France  Female   42   \n",
       "1          2    15647311      Hill          608     Spain  Female   41   \n",
       "2          3    15619304      Onio          502    France  Female   42   \n",
       "3          4    15701354      Boni          699    France  Female   39   \n",
       "4          5    15737888  Mitchell          850     Spain  Female   43   \n",
       "\n",
       "   Tenure    Balance  NumOfProducts  HasCrCard  IsActiveMember  \\\n",
       "0       2       0.00              1          1               1   \n",
       "1       1   83807.86              1          0               1   \n",
       "2       8  159660.80              3          1               0   \n",
       "3       1       0.00              2          0               0   \n",
       "4       2  125510.82              1          1               1   \n",
       "\n",
       "   EstimatedSalary  Exited  \n",
       "0        101348.88       1  \n",
       "1        112542.58       0  \n",
       "2        113931.57       1  \n",
       "3         93826.63       0  \n",
       "4         79084.10       0  "
      ]
     },
     "execution_count": 374,
     "metadata": {},
     "output_type": "execute_result"
    }
   ],
   "source": [
    "data.head()"
   ]
  },
  {
   "cell_type": "markdown",
   "metadata": {},
   "source": [
    "**Normalización y Encoding**"
   ]
  },
  {
   "cell_type": "code",
   "execution_count": 375,
   "metadata": {},
   "outputs": [],
   "source": [
    "LE = LabelEncoder()\n",
    "data['credit_score'] = data['CreditScore']/100\n",
    "data['age'] = data['Age']/10\n",
    "data['balance'] = data['Balance']/10000\n",
    "data['estimated_salary'] = data['EstimatedSalary']/10000\n",
    "data['has_credit_card'] = data['HasCrCard']\n",
    "data['gender_code'] = LE.fit_transform(data['Gender'])\n",
    "data['geography_code'] = LE.fit_transform(data['Geography'])\n",
    "data['is_active_member'] = data['IsActiveMember']"
   ]
  },
  {
   "cell_type": "code",
   "execution_count": 376,
   "metadata": {},
   "outputs": [],
   "source": [
    "data=data.drop(['RowNumber','CustomerId','Surname','CreditScore','Geography','Gender','Age','Tenure','Balance',\n",
    "            'NumOfProducts','HasCrCard','IsActiveMember','EstimatedSalary','Exited']\n",
    "             ,axis=1)"
   ]
  },
  {
   "cell_type": "code",
   "execution_count": 377,
   "metadata": {},
   "outputs": [
    {
     "data": {
      "text/html": [
       "<div>\n",
       "<style scoped>\n",
       "    .dataframe tbody tr th:only-of-type {\n",
       "        vertical-align: middle;\n",
       "    }\n",
       "\n",
       "    .dataframe tbody tr th {\n",
       "        vertical-align: top;\n",
       "    }\n",
       "\n",
       "    .dataframe thead th {\n",
       "        text-align: right;\n",
       "    }\n",
       "</style>\n",
       "<table border=\"1\" class=\"dataframe\">\n",
       "  <thead>\n",
       "    <tr style=\"text-align: right;\">\n",
       "      <th></th>\n",
       "      <th>credit_score</th>\n",
       "      <th>age</th>\n",
       "      <th>balance</th>\n",
       "      <th>estimated_salary</th>\n",
       "      <th>has_credit_card</th>\n",
       "      <th>gender_code</th>\n",
       "      <th>geography_code</th>\n",
       "      <th>is_active_member</th>\n",
       "    </tr>\n",
       "  </thead>\n",
       "  <tbody>\n",
       "    <tr>\n",
       "      <td>0</td>\n",
       "      <td>6.19</td>\n",
       "      <td>4.2</td>\n",
       "      <td>0.000000</td>\n",
       "      <td>10.134888</td>\n",
       "      <td>1</td>\n",
       "      <td>0</td>\n",
       "      <td>0</td>\n",
       "      <td>1</td>\n",
       "    </tr>\n",
       "    <tr>\n",
       "      <td>1</td>\n",
       "      <td>6.08</td>\n",
       "      <td>4.1</td>\n",
       "      <td>8.380786</td>\n",
       "      <td>11.254258</td>\n",
       "      <td>0</td>\n",
       "      <td>0</td>\n",
       "      <td>2</td>\n",
       "      <td>1</td>\n",
       "    </tr>\n",
       "    <tr>\n",
       "      <td>2</td>\n",
       "      <td>5.02</td>\n",
       "      <td>4.2</td>\n",
       "      <td>15.966080</td>\n",
       "      <td>11.393157</td>\n",
       "      <td>1</td>\n",
       "      <td>0</td>\n",
       "      <td>0</td>\n",
       "      <td>0</td>\n",
       "    </tr>\n",
       "    <tr>\n",
       "      <td>3</td>\n",
       "      <td>6.99</td>\n",
       "      <td>3.9</td>\n",
       "      <td>0.000000</td>\n",
       "      <td>9.382663</td>\n",
       "      <td>0</td>\n",
       "      <td>0</td>\n",
       "      <td>0</td>\n",
       "      <td>0</td>\n",
       "    </tr>\n",
       "    <tr>\n",
       "      <td>4</td>\n",
       "      <td>8.50</td>\n",
       "      <td>4.3</td>\n",
       "      <td>12.551082</td>\n",
       "      <td>7.908410</td>\n",
       "      <td>1</td>\n",
       "      <td>0</td>\n",
       "      <td>2</td>\n",
       "      <td>1</td>\n",
       "    </tr>\n",
       "  </tbody>\n",
       "</table>\n",
       "</div>"
      ],
      "text/plain": [
       "   credit_score  age    balance  estimated_salary  has_credit_card  \\\n",
       "0          6.19  4.2   0.000000         10.134888                1   \n",
       "1          6.08  4.1   8.380786         11.254258                0   \n",
       "2          5.02  4.2  15.966080         11.393157                1   \n",
       "3          6.99  3.9   0.000000          9.382663                0   \n",
       "4          8.50  4.3  12.551082          7.908410                1   \n",
       "\n",
       "   gender_code  geography_code  is_active_member  \n",
       "0            0               0                 1  \n",
       "1            0               2                 1  \n",
       "2            0               0                 0  \n",
       "3            0               0                 0  \n",
       "4            0               2                 1  "
      ]
     },
     "execution_count": 377,
     "metadata": {},
     "output_type": "execute_result"
    }
   ],
   "source": [
    "data.head()"
   ]
  },
  {
   "cell_type": "markdown",
   "metadata": {},
   "source": [
    "**Dimensiones del dataset**"
   ]
  },
  {
   "cell_type": "code",
   "execution_count": 378,
   "metadata": {},
   "outputs": [
    {
     "data": {
      "text/plain": [
       "(10000, 8)"
      ]
     },
     "execution_count": 378,
     "metadata": {},
     "output_type": "execute_result"
    }
   ],
   "source": [
    "data.shape"
   ]
  },
  {
   "cell_type": "markdown",
   "metadata": {},
   "source": [
    "**Split train/test dataset**\n",
    "\n",
    "##### x = age, balance, estimated_salary, has_credit_card, gender_code, geography_code, is_active_member\n",
    "##### y = credit_score"
   ]
  },
  {
   "cell_type": "code",
   "execution_count": 379,
   "metadata": {},
   "outputs": [],
   "source": [
    "x_train, x_test, y_train, y_test = sklearn.model_selection.train_test_split(np.array(data.iloc[:,1:6]), np.array(data.iloc[:,0]), \n",
    "                                                                            test_size=0.3, random_state=0)\n",
    "y_train = y_train.reshape(7000,1)"
   ]
  },
  {
   "cell_type": "code",
   "execution_count": 380,
   "metadata": {},
   "outputs": [],
   "source": [
    "def relu(x):\n",
    "    return np.maximum(x, 0)\n",
    "\n",
    "def relu_derivative(x):\n",
    "    x[x<=0] = 0\n",
    "    x[x>0] = 1\n",
    "    return x\n",
    "\n",
    "def sigmoid(x):\n",
    "    s = 1/(1+np.exp(-x)) \n",
    "    return s\n",
    "\n",
    "def sigmoid_derivative(x):\n",
    "    s = sigmoid(x)\n",
    "    ds = s*(1-s)\n",
    "    return ds"
   ]
  },
  {
   "cell_type": "code",
   "execution_count": 386,
   "metadata": {},
   "outputs": [],
   "source": [
    "w1 = np.random.normal(0.0, 0.1, (5,5))\n",
    "w2 = np.random.normal(0.0, 0.1, (5,5))\n",
    "w3 = np.random.normal(0.0, 0.15, (5,5))\n",
    "w4 = np.random.normal(0.0, 0.15, (5,1))"
   ]
  },
  {
   "cell_type": "code",
   "execution_count": 370,
   "metadata": {},
   "outputs": [],
   "source": [
    "def forward_propagation(x, w1, w2, w3, w4):\n",
    "    \n",
    "    input_H1 = np.matmul(x,w1)\n",
    "    output_H1 = relu(input_H1)\n",
    "    \n",
    "    input_H2 = np.matmul(output_H1, w2)\n",
    "    output_H2 = relu(input_H2)\n",
    "    \n",
    "    input_H3 = np.matmul(output_H2, w3)\n",
    "    output_H3 = relu(input_H3)\n",
    "    \n",
    "    output = np.matmul(output_H3, w4)    \n",
    "    \n",
    "    return output_H1, output_H2, output_H3, output\n",
    "\n",
    "def back_propagation(output_H1, output_H2, output_H3, output, y):\n",
    "    \n",
    "    error = y - output\n",
    "    \n",
    "    delta = error * relu_derivative(output)\n",
    "    \n",
    "    error_H3 = np.matmul(delta,w4.T)\n",
    "    delta_H3 = error_H3 * relu_derivative(output_H3)\n",
    "    \n",
    "    error_H2 = np.matmul(delta_H3,w3.T)\n",
    "    delta_H2 = error_H2 * relu_derivative(output_H2)\n",
    "    \n",
    "    error_H1 = np.matmul(delta_H2,w2.T)\n",
    "    delta_H1 = error_H1 * relu_derivative(output_H1)\n",
    "    \n",
    "    return error, delta, delta_H3, delta_H2, delta_H1"
   ]
  },
  {
   "cell_type": "code",
   "execution_count": 371,
   "metadata": {},
   "outputs": [],
   "source": [
    "def fit (lr, epochs):\n",
    "    costs = []\n",
    "    global w1\n",
    "    global w2\n",
    "    global w3\n",
    "    global w4\n",
    "    \n",
    "    for i in range(epochs):\n",
    "        output_H1, output_H2, output_H3, output = forward_propagation(x_train, w1, w2, w3, w4)\n",
    "        error, delta, delta_H3, delta_H2, delta_H1 = back_propagation(output_H1, output_H2, output_H3, output, y_train)\n",
    "    \n",
    "        w4 += (np.matmul(output.T,delta)*lr)\n",
    "        w3 += (np.matmul(output_H3.T,delta_H3)*lr)\n",
    "        w2 += (np.matmul(output_H2.T,delta_H2)*lr)\n",
    "        w1 += (np.matmul(output_H1.T,delta_H1)*lr)\n",
    "\n",
    "        c = np.mean(error)\n",
    "        costs.append(c)\n",
    "    \n",
    "        if i % 1000 == 0:\n",
    "            print(f\"Iteración: {i}. Error: {c}\")\n",
    "\n",
    "    print(\"Entreno completo!!\")"
   ]
  },
  {
   "cell_type": "code",
   "execution_count": 387,
   "metadata": {},
   "outputs": [
    {
     "name": "stdout",
     "output_type": "stream",
     "text": [
      "Iteración: 0. Error: 6.504998804005659\n",
      "Iteración: 1000. Error: 6.485586675103829\n",
      "Iteración: 2000. Error: 6.327725355225311\n",
      "Iteración: 3000. Error: 2.18326045838197\n",
      "Iteración: 4000. Error: 0.1910262228506942\n",
      "Iteración: 5000. Error: 0.1593026106152336\n",
      "Iteración: 6000. Error: 0.14021024663970022\n",
      "Iteración: 7000. Error: 0.11764302136890264\n",
      "Iteración: 8000. Error: 0.09659205482772329\n",
      "Iteración: 9000. Error: 0.07685546520484336\n",
      "Iteración: 10000. Error: 0.061626801090084164\n",
      "Iteración: 11000. Error: 0.04988725153422113\n",
      "Iteración: 12000. Error: 0.043529590782010685\n",
      "Iteración: 13000. Error: 0.037446905819373634\n",
      "Iteración: 14000. Error: 0.03298244039531779\n",
      "Entreno completo!!\n"
     ]
    }
   ],
   "source": [
    "fit(0.00000001,15000)"
   ]
  },
  {
   "cell_type": "code",
   "execution_count": null,
   "metadata": {},
   "outputs": [],
   "source": [
    "fit(0.00000001,10000)"
   ]
  }
 ],
 "metadata": {
  "kernelspec": {
   "display_name": "Python 3",
   "language": "python",
   "name": "python3"
  },
  "language_info": {
   "codemirror_mode": {
    "name": "ipython",
    "version": 3
   },
   "file_extension": ".py",
   "mimetype": "text/x-python",
   "name": "python",
   "nbconvert_exporter": "python",
   "pygments_lexer": "ipython3",
   "version": "3.7.4"
  }
 },
 "nbformat": 4,
 "nbformat_minor": 4
}
