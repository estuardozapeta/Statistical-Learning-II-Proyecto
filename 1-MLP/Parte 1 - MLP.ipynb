{
  "nbformat": 4,
  "nbformat_minor": 0,
  "metadata": {
    "kernelspec": {
      "display_name": "Python 3",
      "language": "python",
      "name": "python3"
    },
    "language_info": {
      "codemirror_mode": {
        "name": "ipython",
        "version": 3
      },
      "file_extension": ".py",
      "mimetype": "text/x-python",
      "name": "python",
      "nbconvert_exporter": "python",
      "pygments_lexer": "ipython3",
      "version": "3.7.4"
    },
    "colab": {
      "name": "Parte 1 - MLP.ipynb",
      "provenance": [],
      "toc_visible": true
    }
  },
  "cells": [
    {
      "cell_type": "markdown",
      "metadata": {
        "id": "Dv5znn-Tpw9_",
        "colab_type": "text"
      },
      "source": [
        "### **Parte 1 - Red Neuronal Feed Forward**\n",
        "\n",
        "**Base de datos bancarios**: El objetivo será predecir el record crediticio de un cliente"
      ]
    },
    {
      "cell_type": "code",
      "metadata": {
        "id": "5vVR93Q8pw-W",
        "colab_type": "code",
        "colab": {}
      },
      "source": [
        "import sklearn.model_selection\n",
        "import numpy as np\n",
        "import pandas as pd\n",
        "from sklearn.preprocessing import LabelEncoder\n",
        "from sklearn.metrics import mean_squared_error"
      ],
      "execution_count": 3,
      "outputs": []
    },
    {
      "cell_type": "code",
      "metadata": {
        "id": "GtI5d5V2uBOq",
        "colab_type": "code",
        "colab": {
          "base_uri": "https://localhost:8080/",
          "height": 34
        },
        "outputId": "03c5c6b9-862e-46a9-c3a1-aeca5bd89aef"
      },
      "source": [
        "from google.colab import drive\n",
        "drive.mount('/content/drive')"
      ],
      "execution_count": 4,
      "outputs": [
        {
          "output_type": "stream",
          "text": [
            "Mounted at /content/drive\n"
          ],
          "name": "stdout"
        }
      ]
    },
    {
      "cell_type": "markdown",
      "metadata": {
        "id": "eA_m2r3Mpw_l",
        "colab_type": "text"
      },
      "source": [
        "**Carga de dataset**"
      ]
    },
    {
      "cell_type": "code",
      "metadata": {
        "id": "DFhfYGmlpw_s",
        "colab_type": "code",
        "colab": {}
      },
      "source": [
        "data  = pd.read_csv('/content/drive/My Drive/Universidad Galileo/Tercer Trimestre/Statistical Learning II/Proyecto/1-MLP/data.csv')"
      ],
      "execution_count": 5,
      "outputs": []
    },
    {
      "cell_type": "markdown",
      "metadata": {
        "id": "rR1gtRJypxAX",
        "colab_type": "text"
      },
      "source": [
        "**Visualización de datos**"
      ]
    },
    {
      "cell_type": "code",
      "metadata": {
        "id": "_lG1IGYvpxAl",
        "colab_type": "code",
        "colab": {
          "base_uri": "https://localhost:8080/",
          "height": 224
        },
        "outputId": "07d66bd6-6bc1-4ceb-b010-d17beca7509f"
      },
      "source": [
        "data.head()"
      ],
      "execution_count": 6,
      "outputs": [
        {
          "output_type": "execute_result",
          "data": {
            "text/html": [
              "<div>\n",
              "<style scoped>\n",
              "    .dataframe tbody tr th:only-of-type {\n",
              "        vertical-align: middle;\n",
              "    }\n",
              "\n",
              "    .dataframe tbody tr th {\n",
              "        vertical-align: top;\n",
              "    }\n",
              "\n",
              "    .dataframe thead th {\n",
              "        text-align: right;\n",
              "    }\n",
              "</style>\n",
              "<table border=\"1\" class=\"dataframe\">\n",
              "  <thead>\n",
              "    <tr style=\"text-align: right;\">\n",
              "      <th></th>\n",
              "      <th>RowNumber</th>\n",
              "      <th>CustomerId</th>\n",
              "      <th>Surname</th>\n",
              "      <th>CreditScore</th>\n",
              "      <th>Geography</th>\n",
              "      <th>Gender</th>\n",
              "      <th>Age</th>\n",
              "      <th>Tenure</th>\n",
              "      <th>Balance</th>\n",
              "      <th>NumOfProducts</th>\n",
              "      <th>HasCrCard</th>\n",
              "      <th>IsActiveMember</th>\n",
              "      <th>EstimatedSalary</th>\n",
              "      <th>Exited</th>\n",
              "    </tr>\n",
              "  </thead>\n",
              "  <tbody>\n",
              "    <tr>\n",
              "      <th>0</th>\n",
              "      <td>1</td>\n",
              "      <td>15634602</td>\n",
              "      <td>Hargrave</td>\n",
              "      <td>619</td>\n",
              "      <td>France</td>\n",
              "      <td>Female</td>\n",
              "      <td>42</td>\n",
              "      <td>2</td>\n",
              "      <td>0.00</td>\n",
              "      <td>1</td>\n",
              "      <td>1</td>\n",
              "      <td>1</td>\n",
              "      <td>101348.88</td>\n",
              "      <td>1</td>\n",
              "    </tr>\n",
              "    <tr>\n",
              "      <th>1</th>\n",
              "      <td>2</td>\n",
              "      <td>15647311</td>\n",
              "      <td>Hill</td>\n",
              "      <td>608</td>\n",
              "      <td>Spain</td>\n",
              "      <td>Female</td>\n",
              "      <td>41</td>\n",
              "      <td>1</td>\n",
              "      <td>83807.86</td>\n",
              "      <td>1</td>\n",
              "      <td>0</td>\n",
              "      <td>1</td>\n",
              "      <td>112542.58</td>\n",
              "      <td>0</td>\n",
              "    </tr>\n",
              "    <tr>\n",
              "      <th>2</th>\n",
              "      <td>3</td>\n",
              "      <td>15619304</td>\n",
              "      <td>Onio</td>\n",
              "      <td>502</td>\n",
              "      <td>France</td>\n",
              "      <td>Female</td>\n",
              "      <td>42</td>\n",
              "      <td>8</td>\n",
              "      <td>159660.80</td>\n",
              "      <td>3</td>\n",
              "      <td>1</td>\n",
              "      <td>0</td>\n",
              "      <td>113931.57</td>\n",
              "      <td>1</td>\n",
              "    </tr>\n",
              "    <tr>\n",
              "      <th>3</th>\n",
              "      <td>4</td>\n",
              "      <td>15701354</td>\n",
              "      <td>Boni</td>\n",
              "      <td>699</td>\n",
              "      <td>France</td>\n",
              "      <td>Female</td>\n",
              "      <td>39</td>\n",
              "      <td>1</td>\n",
              "      <td>0.00</td>\n",
              "      <td>2</td>\n",
              "      <td>0</td>\n",
              "      <td>0</td>\n",
              "      <td>93826.63</td>\n",
              "      <td>0</td>\n",
              "    </tr>\n",
              "    <tr>\n",
              "      <th>4</th>\n",
              "      <td>5</td>\n",
              "      <td>15737888</td>\n",
              "      <td>Mitchell</td>\n",
              "      <td>850</td>\n",
              "      <td>Spain</td>\n",
              "      <td>Female</td>\n",
              "      <td>43</td>\n",
              "      <td>2</td>\n",
              "      <td>125510.82</td>\n",
              "      <td>1</td>\n",
              "      <td>1</td>\n",
              "      <td>1</td>\n",
              "      <td>79084.10</td>\n",
              "      <td>0</td>\n",
              "    </tr>\n",
              "  </tbody>\n",
              "</table>\n",
              "</div>"
            ],
            "text/plain": [
              "   RowNumber  CustomerId   Surname  ...  IsActiveMember EstimatedSalary Exited\n",
              "0          1    15634602  Hargrave  ...               1       101348.88      1\n",
              "1          2    15647311      Hill  ...               1       112542.58      0\n",
              "2          3    15619304      Onio  ...               0       113931.57      1\n",
              "3          4    15701354      Boni  ...               0        93826.63      0\n",
              "4          5    15737888  Mitchell  ...               1        79084.10      0\n",
              "\n",
              "[5 rows x 14 columns]"
            ]
          },
          "metadata": {
            "tags": []
          },
          "execution_count": 6
        }
      ]
    },
    {
      "cell_type": "markdown",
      "metadata": {
        "id": "-nui-X0bpxBR",
        "colab_type": "text"
      },
      "source": [
        "**Normalización y Encoding**"
      ]
    },
    {
      "cell_type": "code",
      "metadata": {
        "id": "ZRoMZWOypxBW",
        "colab_type": "code",
        "colab": {}
      },
      "source": [
        "LE = LabelEncoder()\n",
        "data['credit_score'] = data['CreditScore']/100\n",
        "data['age'] = data['Age']/10\n",
        "data['balance'] = data['Balance']/10000\n",
        "data['estimated_salary'] = data['EstimatedSalary']/10000\n",
        "data['has_credit_card'] = data['HasCrCard']\n",
        "data['gender_code'] = LE.fit_transform(data['Gender'])\n",
        "data['geography_code'] = LE.fit_transform(data['Geography'])\n",
        "data['is_active_member'] = data['IsActiveMember']"
      ],
      "execution_count": 7,
      "outputs": []
    },
    {
      "cell_type": "code",
      "metadata": {
        "id": "VExQ8uzqpxB6",
        "colab_type": "code",
        "colab": {}
      },
      "source": [
        "data=data.drop(['RowNumber','CustomerId','Surname','CreditScore','Geography','Gender','Age','Tenure','Balance',\n",
        "            'NumOfProducts','HasCrCard','IsActiveMember','EstimatedSalary','Exited']\n",
        "             ,axis=1)"
      ],
      "execution_count": 8,
      "outputs": []
    },
    {
      "cell_type": "code",
      "metadata": {
        "id": "aCnBD6MzpxCb",
        "colab_type": "code",
        "colab": {
          "base_uri": "https://localhost:8080/",
          "height": 204
        },
        "outputId": "aed8e9dd-0155-4f32-9db0-405915e8ab32"
      },
      "source": [
        "data.head()"
      ],
      "execution_count": 9,
      "outputs": [
        {
          "output_type": "execute_result",
          "data": {
            "text/html": [
              "<div>\n",
              "<style scoped>\n",
              "    .dataframe tbody tr th:only-of-type {\n",
              "        vertical-align: middle;\n",
              "    }\n",
              "\n",
              "    .dataframe tbody tr th {\n",
              "        vertical-align: top;\n",
              "    }\n",
              "\n",
              "    .dataframe thead th {\n",
              "        text-align: right;\n",
              "    }\n",
              "</style>\n",
              "<table border=\"1\" class=\"dataframe\">\n",
              "  <thead>\n",
              "    <tr style=\"text-align: right;\">\n",
              "      <th></th>\n",
              "      <th>credit_score</th>\n",
              "      <th>age</th>\n",
              "      <th>balance</th>\n",
              "      <th>estimated_salary</th>\n",
              "      <th>has_credit_card</th>\n",
              "      <th>gender_code</th>\n",
              "      <th>geography_code</th>\n",
              "      <th>is_active_member</th>\n",
              "    </tr>\n",
              "  </thead>\n",
              "  <tbody>\n",
              "    <tr>\n",
              "      <th>0</th>\n",
              "      <td>6.19</td>\n",
              "      <td>4.2</td>\n",
              "      <td>0.000000</td>\n",
              "      <td>10.134888</td>\n",
              "      <td>1</td>\n",
              "      <td>0</td>\n",
              "      <td>0</td>\n",
              "      <td>1</td>\n",
              "    </tr>\n",
              "    <tr>\n",
              "      <th>1</th>\n",
              "      <td>6.08</td>\n",
              "      <td>4.1</td>\n",
              "      <td>8.380786</td>\n",
              "      <td>11.254258</td>\n",
              "      <td>0</td>\n",
              "      <td>0</td>\n",
              "      <td>2</td>\n",
              "      <td>1</td>\n",
              "    </tr>\n",
              "    <tr>\n",
              "      <th>2</th>\n",
              "      <td>5.02</td>\n",
              "      <td>4.2</td>\n",
              "      <td>15.966080</td>\n",
              "      <td>11.393157</td>\n",
              "      <td>1</td>\n",
              "      <td>0</td>\n",
              "      <td>0</td>\n",
              "      <td>0</td>\n",
              "    </tr>\n",
              "    <tr>\n",
              "      <th>3</th>\n",
              "      <td>6.99</td>\n",
              "      <td>3.9</td>\n",
              "      <td>0.000000</td>\n",
              "      <td>9.382663</td>\n",
              "      <td>0</td>\n",
              "      <td>0</td>\n",
              "      <td>0</td>\n",
              "      <td>0</td>\n",
              "    </tr>\n",
              "    <tr>\n",
              "      <th>4</th>\n",
              "      <td>8.50</td>\n",
              "      <td>4.3</td>\n",
              "      <td>12.551082</td>\n",
              "      <td>7.908410</td>\n",
              "      <td>1</td>\n",
              "      <td>0</td>\n",
              "      <td>2</td>\n",
              "      <td>1</td>\n",
              "    </tr>\n",
              "  </tbody>\n",
              "</table>\n",
              "</div>"
            ],
            "text/plain": [
              "   credit_score  age    balance  ...  gender_code  geography_code  is_active_member\n",
              "0          6.19  4.2   0.000000  ...            0               0                 1\n",
              "1          6.08  4.1   8.380786  ...            0               2                 1\n",
              "2          5.02  4.2  15.966080  ...            0               0                 0\n",
              "3          6.99  3.9   0.000000  ...            0               0                 0\n",
              "4          8.50  4.3  12.551082  ...            0               2                 1\n",
              "\n",
              "[5 rows x 8 columns]"
            ]
          },
          "metadata": {
            "tags": []
          },
          "execution_count": 9
        }
      ]
    },
    {
      "cell_type": "markdown",
      "metadata": {
        "id": "YIwxSNSApxC-",
        "colab_type": "text"
      },
      "source": [
        "**Dimensiones del dataset**"
      ]
    },
    {
      "cell_type": "code",
      "metadata": {
        "id": "ZEledcV6pxDK",
        "colab_type": "code",
        "colab": {
          "base_uri": "https://localhost:8080/",
          "height": 34
        },
        "outputId": "c8cab7b9-79f9-4458-f9b0-f62f4a8fb52c"
      },
      "source": [
        "data.shape"
      ],
      "execution_count": 10,
      "outputs": [
        {
          "output_type": "execute_result",
          "data": {
            "text/plain": [
              "(10000, 8)"
            ]
          },
          "metadata": {
            "tags": []
          },
          "execution_count": 10
        }
      ]
    },
    {
      "cell_type": "markdown",
      "metadata": {
        "id": "jfQlzTz9pxDt",
        "colab_type": "text"
      },
      "source": [
        "**Split train/test dataset**\n",
        "\n",
        "##### x = age, balance, estimated_salary, has_credit_card, gender_code, geography_code, is_active_member\n",
        "##### y = credit_score"
      ]
    },
    {
      "cell_type": "code",
      "metadata": {
        "id": "9S6hQBAQpxDz",
        "colab_type": "code",
        "colab": {}
      },
      "source": [
        "x_train, x_test, y_train, y_test = sklearn.model_selection.train_test_split(np.array(data.iloc[:,1:6]), np.array(data.iloc[:,0]), \n",
        "                                                                            test_size=0.3, random_state=0)\n",
        "y_train = y_train.reshape(7000,1)"
      ],
      "execution_count": 19,
      "outputs": []
    },
    {
      "cell_type": "code",
      "metadata": {
        "id": "_8Hgg0n-pxEY",
        "colab_type": "code",
        "colab": {}
      },
      "source": [
        "def relu(x):\n",
        "    return np.maximum(x, 0)\n",
        "\n",
        "def relu_derivative(x):\n",
        "    x[x<=0] = 0\n",
        "    x[x>0] = 1\n",
        "    return x\n",
        "\n",
        "def sigmoid(x):\n",
        "    s = 1/(1+np.exp(-x)) \n",
        "    return s\n",
        "\n",
        "def sigmoid_derivative(x):\n",
        "    s = sigmoid(x)\n",
        "    ds = s*(1-s)\n",
        "    return ds"
      ],
      "execution_count": 23,
      "outputs": []
    },
    {
      "cell_type": "markdown",
      "metadata": {
        "id": "HL1qAWrkvRl9",
        "colab_type": "text"
      },
      "source": [
        "**Definición de pesos**"
      ]
    },
    {
      "cell_type": "code",
      "metadata": {
        "id": "-Q8sveVapxEw",
        "colab_type": "code",
        "colab": {}
      },
      "source": [
        "w1 = np.random.normal(0.0, 0.1, (5,5))\n",
        "w2 = np.random.normal(0.0, 0.1, (5,5))\n",
        "w3 = np.random.normal(0.0, 0.15, (5,5))\n",
        "w4 = np.random.normal(0.0, 0.15, (5,1))"
      ],
      "execution_count": 12,
      "outputs": []
    },
    {
      "cell_type": "markdown",
      "metadata": {
        "id": "G_qy9QUUvX-7",
        "colab_type": "text"
      },
      "source": [
        "**Funciones de forward-propagation y back-propagation**"
      ]
    },
    {
      "cell_type": "code",
      "metadata": {
        "id": "-YIKiLB7pxFa",
        "colab_type": "code",
        "colab": {}
      },
      "source": [
        "def forward_propagation(x, w1, w2, w3, w4):\n",
        "    \n",
        "    input_H1 = np.matmul(x,w1)\n",
        "    output_H1 = relu(input_H1)\n",
        "    \n",
        "    input_H2 = np.matmul(output_H1, w2)\n",
        "    output_H2 = relu(input_H2)\n",
        "    \n",
        "    input_H3 = np.matmul(output_H2, w3)\n",
        "    output_H3 = relu(input_H3)\n",
        "    \n",
        "    output = np.matmul(output_H3, w4)    \n",
        "    \n",
        "    return output_H1, output_H2, output_H3, output\n",
        "\n",
        "def back_propagation(output_H1, output_H2, output_H3, output, y):\n",
        "    \n",
        "    error = y - output\n",
        "    \n",
        "    delta = error * relu_derivative(output)\n",
        "    \n",
        "    error_H3 = np.matmul(delta,w4.T)\n",
        "    delta_H3 = error_H3 * relu_derivative(output_H3)\n",
        "    \n",
        "    error_H2 = np.matmul(delta_H3,w3.T)\n",
        "    delta_H2 = error_H2 * relu_derivative(output_H2)\n",
        "    \n",
        "    error_H1 = np.matmul(delta_H2,w2.T)\n",
        "    delta_H1 = error_H1 * relu_derivative(output_H1)\n",
        "    \n",
        "    return error, delta, delta_H3, delta_H2, delta_H1"
      ],
      "execution_count": 13,
      "outputs": []
    },
    {
      "cell_type": "markdown",
      "metadata": {
        "id": "qFHCYBObviJR",
        "colab_type": "text"
      },
      "source": [
        "**Función de entreno**"
      ]
    },
    {
      "cell_type": "code",
      "metadata": {
        "id": "-S5CYyUZpxFy",
        "colab_type": "code",
        "colab": {}
      },
      "source": [
        "def fit (lr, epochs):\n",
        "    costs = []\n",
        "    global w1\n",
        "    global w2\n",
        "    global w3\n",
        "    global w4\n",
        "    \n",
        "    for i in range(epochs):\n",
        "        output_H1, output_H2, output_H3, output = forward_propagation(x_train, w1, w2, w3, w4)\n",
        "        error, delta, delta_H3, delta_H2, delta_H1 = back_propagation(output_H1, output_H2, output_H3, output, y_train)\n",
        "    \n",
        "        w4 += (np.matmul(output.T,delta)*lr)\n",
        "        w3 += (np.matmul(output_H3.T,delta_H3)*lr)\n",
        "        w2 += (np.matmul(output_H2.T,delta_H2)*lr)\n",
        "        w1 += (np.matmul(output_H1.T,delta_H1)*lr)\n",
        "\n",
        "        c = np.mean(error)\n",
        "        costs.append(c)\n",
        "    \n",
        "        if i % 1000 == 0:\n",
        "            print(f\"Iteración: {i}. Error: {c}\")\n",
        "\n",
        "    print(\"Entreno completo!!\")"
      ],
      "execution_count": null,
      "outputs": []
    },
    {
      "cell_type": "markdown",
      "metadata": {
        "id": "uZ6gAfSEq5qb",
        "colab_type": "text"
      },
      "source": [
        "**Entrenamiento**"
      ]
    },
    {
      "cell_type": "code",
      "metadata": {
        "id": "gvtM9fMopxGb",
        "colab_type": "code",
        "colab": {},
        "outputId": "cbc0db80-5509-4017-a6d2-0258a56ea76e"
      },
      "source": [
        "fit(0.00000001,15000)"
      ],
      "execution_count": null,
      "outputs": [
        {
          "output_type": "stream",
          "text": [
            "Iteración: 0. Error: 6.504998804005659\n",
            "Iteración: 1000. Error: 6.485586675103829\n",
            "Iteración: 2000. Error: 6.327725355225311\n",
            "Iteración: 3000. Error: 2.18326045838197\n",
            "Iteración: 4000. Error: 0.1910262228506942\n",
            "Iteración: 5000. Error: 0.1593026106152336\n",
            "Iteración: 6000. Error: 0.14021024663970022\n",
            "Iteración: 7000. Error: 0.11764302136890264\n",
            "Iteración: 8000. Error: 0.09659205482772329\n",
            "Iteración: 9000. Error: 0.07685546520484336\n",
            "Iteración: 10000. Error: 0.061626801090084164\n",
            "Iteración: 11000. Error: 0.04988725153422113\n",
            "Iteración: 12000. Error: 0.043529590782010685\n",
            "Iteración: 13000. Error: 0.037446905819373634\n",
            "Iteración: 14000. Error: 0.03298244039531779\n",
            "Entreno completo!!\n"
          ],
          "name": "stdout"
        }
      ]
    },
    {
      "cell_type": "markdown",
      "metadata": {
        "id": "DZ7B_Blvs3oD",
        "colab_type": "text"
      },
      "source": [
        "**Experimento**"
      ]
    },
    {
      "cell_type": "code",
      "metadata": {
        "id": "5Q9tO8KUs8NX",
        "colab_type": "code",
        "colab": {}
      },
      "source": [
        "def predict(x):\n",
        "    prediction = forward_propagation(x, w1, w2, w3, w4)\n",
        "    return prediction[0]"
      ],
      "execution_count": 34,
      "outputs": []
    },
    {
      "cell_type": "code",
      "metadata": {
        "id": "039l3SY-tW6M",
        "colab_type": "code",
        "colab": {
          "base_uri": "https://localhost:8080/",
          "height": 34
        },
        "outputId": "5b23dbba-4f9d-4c46-c7cb-380045738944"
      },
      "source": [
        "x = np.array([4.2, 0, 10.1, 1, 0])\n",
        "x = x.reshape(1,5)\n",
        "print(\"Credit score: \"+str(predict(x)[0][0]))"
      ],
      "execution_count": 38,
      "outputs": [
        {
          "output_type": "stream",
          "text": [
            "Credit score: 0.756019799633828\n"
          ],
          "name": "stdout"
        }
      ]
    }
  ]
}